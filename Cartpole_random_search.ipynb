{
 "cells": [
  {
   "cell_type": "markdown",
   "metadata": {},
   "source": [
    "# Training"
   ]
  },
  {
   "cell_type": "code",
   "execution_count": 1,
   "metadata": {},
   "outputs": [
    {
     "name": "stdout",
     "output_type": "stream",
     "text": [
      "Best score 200.0\n",
      "Best vec [ 0.31718166 -0.49381255  0.69629874  0.60754071]\n"
     ]
    }
   ],
   "source": [
    "import gym\n",
    "import time\n",
    "import numpy as np\n",
    "\n",
    "def linear(obs, vec):\n",
    "    control = np.sum(obs*vec)\n",
    "    action = 1 if control>0 else 0\n",
    "    return(action)\n",
    "\n",
    "env = gym.make('CartPole-v0')\n",
    "\n",
    "best_vec, best_score = np.zeros(4), 0\n",
    "num_draws = 50\n",
    "for k in range(num_draws):\n",
    "    vec = np.random.uniform(low=-1, high=1, size=4)\n",
    "    avg_reward = 0\n",
    "    num_eval_eps = 1\n",
    "    for i in range(num_eval_eps):\n",
    "        ep_reward = 0\n",
    "        obs = env.reset()\n",
    "        done = False\n",
    "        while not done:\n",
    "            action = linear(obs, vec)\n",
    "            obs, reward, done, info = env.step(action)\n",
    "            ep_reward += reward\n",
    "            if done:\n",
    "                avg_reward += ep_reward/num_eval_eps\n",
    "                ep_reward = 0\n",
    "    if avg_reward > best_score:\n",
    "        best_score, best_vec = avg_reward, vec\n",
    "\n",
    "env.close()\n",
    "\n",
    "print('Best score {}\\nBest vec {}'.format(best_score, best_vec))\n"
   ]
  },
  {
   "cell_type": "markdown",
   "metadata": {},
   "source": [
    "# Testing"
   ]
  },
  {
   "cell_type": "code",
   "execution_count": 6,
   "metadata": {},
   "outputs": [
    {
     "name": "stdout",
     "output_type": "stream",
     "text": [
      "200.0\n"
     ]
    }
   ],
   "source": [
    "for i in range(1):\n",
    "    ep_reward = 0\n",
    "    obs = env.reset()\n",
    "    done = False\n",
    "    while not done:\n",
    "        action = linear(obs, best_vec)\n",
    "        obs, reward, done, info = env.step(action)\n",
    "        ep_reward += reward\n",
    "        env.render()\n",
    "        if done:\n",
    "            print(ep_reward)\n",
    "            time.sleep(1)\n",
    "            obs = env.reset()\n",
    "            ep_reward = 0\n",
    "env.close()"
   ]
  }
 ],
 "metadata": {
  "kernelspec": {
   "display_name": "base",
   "language": "python",
   "name": "base"
  },
  "language_info": {
   "codemirror_mode": {
    "name": "ipython",
    "version": 3
   },
   "file_extension": ".py",
   "mimetype": "text/x-python",
   "name": "python",
   "nbconvert_exporter": "python",
   "pygments_lexer": "ipython3",
   "version": "3.7.4"
  }
 },
 "nbformat": 4,
 "nbformat_minor": 2
}
